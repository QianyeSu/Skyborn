{
 "cells": [
  {
   "cell_type": "markdown",
   "id": "8466bb3e",
   "metadata": {},
   "source": [
    "# Vector Wind Analysis with Skyborn Windspharm\n",
    "\n",
    "This notebook demonstrates the capabilities of the `skyborn.windspharm` module for spherical harmonic vector wind analysis. The module provides tools for computing vorticity, divergence, streamfunction, velocity potential, and performing Helmholtz decomposition of atmospheric wind fields."
   ]
  },
  {
   "cell_type": "code",
   "execution_count": null,
   "id": "8f82f0ed",
   "metadata": {},
   "outputs": [],
   "source": [
    "import numpy as np\n",
    "import matplotlib.pyplot as plt\n",
    "from skyborn.windspharm import VectorWind\n",
    "from skyborn.spharm import gaussian_lats_wts\n",
    "\n",
    "# Set up plotting\n",
    "plt.style.use('default')\n",
    "%matplotlib inline"
   ]
  },
  {
   "cell_type": "markdown",
   "id": "f42a5caf",
   "metadata": {},
   "source": [
    "## Creating Sample Wind Data\n",
    "\n",
    "First, let's create some realistic-looking wind data on a Gaussian latitude grid."
   ]
  },
  {
   "cell_type": "code",
   "execution_count": null,
   "id": "984a79fa",
   "metadata": {},
   "outputs": [],
   "source": [
    "# Define grid dimensions\n",
    "nlat, nlon = 73, 144  # T42 resolution\n",
    "\n",
    "# Get Gaussian latitudes and weights\n",
    "lats, wts = gaussian_lats_wts(nlat)\n",
    "lons = np.linspace(0, 360, nlon, endpoint=False)\n",
    "\n",
    "# Create longitude and latitude meshgrid\n",
    "lon_grid, lat_grid = np.meshgrid(lons, lats)\n",
    "\n",
    "# Create realistic wind patterns\n",
    "# Zonal wind with jet stream-like structure\n",
    "u = 20 * np.exp(-((lat_grid - 30)**2) / (2 * 15**2)) + \\\n",
    "    15 * np.exp(-((lat_grid + 30)**2) / (2 * 15**2)) + \\\n",
    "    5 * np.random.randn(nlat, nlon)\n",
    "\n",
    "# Meridional wind with wave-like patterns\n",
    "v = 5 * np.sin(3 * np.deg2rad(lon_grid)) * np.cos(np.deg2rad(lat_grid)) + \\\n",
    "    3 * np.random.randn(nlat, nlon)\n",
    "\n",
    "print(f\"Wind data shape: u={u.shape}, v={v.shape}\")\n",
    "print(f\"Latitude range: {lats.min():.1f}° to {lats.max():.1f}°\")\n",
    "print(f\"Longitude range: {lons.min():.1f}° to {lons.max():.1f}°\")"
   ]
  },
  {
   "cell_type": "markdown",
   "id": "9543a239",
   "metadata": {},
   "source": [
    "## Initialize VectorWind Object\n",
    "\n",
    "Create a VectorWind instance for spherical harmonic analysis."
   ]
  },
  {
   "cell_type": "code",
   "execution_count": null,
   "id": "1d1fb097",
   "metadata": {},
   "outputs": [],
   "source": [
    "# Initialize VectorWind with Gaussian grid\n",
    "vw = VectorWind(u, v, gridtype='gaussian')\n",
    "\n",
    "print(f\"VectorWind initialized:\")\n",
    "print(f\"  Grid type: {vw.gridtype}\")\n",
    "print(f\"  Latitude points: {vw.nlat}\")\n",
    "print(f\"  Longitude points: {vw.nlon}\")\n",
    "print(f\"  Earth radius: {vw.s.rsphere/1e6:.2f} x 10^6 m\")"
   ]
  },
  {
   "cell_type": "markdown",
   "id": "a4b0ff45",
   "metadata": {},
   "source": [
    "## Computing Dynamical Quantities\n",
    "\n",
    "### Vorticity and Divergence\n",
    "\n",
    "Calculate the vorticity (circulation) and divergence (spreading) of the wind field."
   ]
  },
  {
   "cell_type": "code",
   "execution_count": null,
   "id": "f9e8e669",
   "metadata": {},
   "outputs": [],
   "source": [
    "# Compute vorticity and divergence\n",
    "vorticity = vw.vorticity()\n",
    "divergence = vw.divergence()\n",
    "\n",
    "print(f\"Vorticity statistics:\")\n",
    "print(f\"  Min: {vorticity.min():.2e} s⁻¹\")\n",
    "print(f\"  Max: {vorticity.max():.2e} s⁻¹\")\n",
    "print(f\"  Mean: {vorticity.mean():.2e} s⁻¹\")\n",
    "\n",
    "print(f\"\\nDivergence statistics:\")\n",
    "print(f\"  Min: {divergence.min():.2e} s⁻¹\")\n",
    "print(f\"  Max: {divergence.max():.2e} s⁻¹\")\n",
    "print(f\"  Mean: {divergence.mean():.2e} s⁻¹\")"
   ]
  },
  {
   "cell_type": "markdown",
   "id": "9b9b5d5f",
   "metadata": {},
   "source": [
    "### Streamfunction and Velocity Potential\n",
    "\n",
    "Compute the streamfunction (related to rotation) and velocity potential (related to divergence)."
   ]
  },
  {
   "cell_type": "code",
   "execution_count": null,
   "id": "cbffd8d2",
   "metadata": {},
   "outputs": [],
   "source": [
    "# Compute streamfunction and velocity potential\n",
    "streamfunction = vw.streamfunction()\n",
    "velocity_potential = vw.velocitypotential()\n",
    "\n",
    "# Or compute both at once\n",
    "psi, chi = vw.sfvp()\n",
    "\n",
    "print(f\"Streamfunction statistics:\")\n",
    "print(f\"  Min: {streamfunction.min():.2e} m²/s\")\n",
    "print(f\"  Max: {streamfunction.max():.2e} m²/s\")\n",
    "print(f\"  Mean: {streamfunction.mean():.2e} m²/s\")\n",
    "\n",
    "print(f\"\\nVelocity potential statistics:\")\n",
    "print(f\"  Min: {velocity_potential.min():.2e} m²/s\")\n",
    "print(f\"  Max: {velocity_potential.max():.2e} m²/s\")\n",
    "print(f\"  Mean: {velocity_potential.mean():.2e} m²/s\")\n",
    "\n",
    "# Verify that both methods give the same result\n",
    "assert np.allclose(streamfunction, psi, rtol=1e-10)\n",
    "assert np.allclose(velocity_potential, chi, rtol=1e-10)\n",
    "print(\"\\n✓ Verified: sfvp() gives same results as individual functions\")"
   ]
  },
  {
   "cell_type": "markdown",
   "id": "0e6b2be6",
   "metadata": {},
   "source": [
    "## Helmholtz Decomposition\n",
    "\n",
    "Decompose the wind field into rotational (non-divergent) and divergent (irrotational) components."
   ]
  },
  {
   "cell_type": "code",
   "execution_count": null,
   "id": "b3f0e8cb",
   "metadata": {},
   "outputs": [],
   "source": [
    "# Full Helmholtz decomposition\n",
    "u_rot, v_rot, u_div, v_div = vw.helmholtz()\n",
    "\n",
    "# Verify the decomposition\n",
    "u_reconstructed = u_rot + u_div\n",
    "v_reconstructed = v_rot + v_div\n",
    "\n",
    "print(f\"Helmholtz decomposition verification:\")\n",
    "print(f\"  U reconstruction error: {np.abs(u - u_reconstructed).max():.2e}\")\n",
    "print(f\"  V reconstruction error: {np.abs(v - v_reconstructed).max():.2e}\")\n",
    "\n",
    "# Calculate energy in each component\n",
    "total_energy = np.mean(u**2 + v**2)\n",
    "rotational_energy = np.mean(u_rot**2 + v_rot**2)\n",
    "divergent_energy = np.mean(u_div**2 + v_div**2)\n",
    "\n",
    "print(f\"\\nEnergy decomposition:\")\n",
    "print(f\"  Total energy: {total_energy:.3f} m²/s²\")\n",
    "print(f\"  Rotational energy: {rotational_energy:.3f} m²/s² ({100*rotational_energy/total_energy:.1f}%)\")\n",
    "print(f\"  Divergent energy: {divergent_energy:.3f} m²/s² ({100*divergent_energy/total_energy:.1f}%)\")\n",
    "print(f\"  Energy conservation: {rotational_energy + divergent_energy:.3f} m²/s²\")"
   ]
  },
  {
   "cell_type": "markdown",
   "id": "b614e3ee",
   "metadata": {},
   "source": [
    "## Alternative Component Access\n",
    "\n",
    "Get rotational and divergent components separately."
   ]
  },
  {
   "cell_type": "code",
   "execution_count": null,
   "id": "0119f2a4",
   "metadata": {},
   "outputs": [],
   "source": [
    "# Get components separately\n",
    "u_nondiv, v_nondiv = vw.nondivergentcomponent()\n",
    "u_irrot, v_irrot = vw.irrotationalcomponent()\n",
    "\n",
    "# Verify these match the Helmholtz decomposition\n",
    "assert np.allclose(u_rot, u_nondiv, rtol=1e-10)\n",
    "assert np.allclose(v_rot, v_nondiv, rtol=1e-10)\n",
    "assert np.allclose(u_div, u_irrot, rtol=1e-10)\n",
    "assert np.allclose(v_div, v_irrot, rtol=1e-10)\n",
    "\n",
    "print(\"✓ Verified: Individual component methods match Helmholtz decomposition\")"
   ]
  },
  {
   "cell_type": "markdown",
   "id": "0e90e34c",
   "metadata": {},
   "source": [
    "## Gradient Operations\n",
    "\n",
    "Compute gradients of scalar fields."
   ]
  },
  {
   "cell_type": "code",
   "execution_count": null,
   "id": "050ea4cd",
   "metadata": {},
   "outputs": [],
   "source": [
    "# Compute gradient of streamfunction (should give rotational wind)\n",
    "psi_grad_u, psi_grad_v = vw.gradient(streamfunction)\n",
    "\n",
    "# The gradient of streamfunction should be related to the rotational wind\n",
    "# u_rot = -∂ψ/∂y, v_rot = ∂ψ/∂x (with appropriate scaling)\n",
    "print(f\"Gradient computation:\")\n",
    "print(f\"  Streamfunction gradient U shape: {psi_grad_u.shape}\")\n",
    "print(f\"  Streamfunction gradient V shape: {psi_grad_v.shape}\")\n",
    "\n",
    "# Check the relationship (note: exact match depends on truncation)\n",
    "correlation_u = np.corrcoef(psi_grad_u.flatten(), (-v_rot).flatten())[0, 1]\n",
    "correlation_v = np.corrcoef(psi_grad_v.flatten(), u_rot.flatten())[0, 1]\n",
    "\n",
    "print(f\"  Correlation between ∂ψ/∂x and u_rot: {correlation_v:.3f}\")\n",
    "print(f\"  Correlation between ∂ψ/∂y and -v_rot: {correlation_u:.3f}\")"
   ]
  },
  {
   "cell_type": "markdown",
   "id": "e556a3a9",
   "metadata": {},
   "source": [
    "## Visualization\n",
    "\n",
    "Create visualizations of the computed fields."
   ]
  },
  {
   "cell_type": "code",
   "execution_count": null,
   "id": "f35a6b4a",
   "metadata": {},
   "outputs": [],
   "source": [
    "# Create a comprehensive plot\n",
    "fig, axes = plt.subplots(2, 3, figsize=(15, 10))\n",
    "fig.suptitle('Vector Wind Analysis Results', fontsize=16, fontweight='bold')\n",
    "\n",
    "# Plot 1: Original wind vectors\n",
    "ax = axes[0, 0]\n",
    "skip = 4  # Skip every 4th point for clearer visualization\n",
    "ax.quiver(lon_grid[::skip, ::skip], lat_grid[::skip, ::skip], \n",
    "          u[::skip, ::skip], v[::skip, ::skip], \n",
    "          scale=300, alpha=0.7)\n",
    "ax.set_title('Original Wind Field')\n",
    "ax.set_xlabel('Longitude (°)')\n",
    "ax.set_ylabel('Latitude (°)')\n",
    "ax.grid(True, alpha=0.3)\n",
    "\n",
    "# Plot 2: Vorticity\n",
    "ax = axes[0, 1]\n",
    "im = ax.contourf(lon_grid, lat_grid, vorticity*1e5, \n",
    "                 levels=20, cmap='RdBu_r', extend='both')\n",
    "ax.set_title('Relative Vorticity (×10⁻⁵ s⁻¹)')\n",
    "ax.set_xlabel('Longitude (°)')\n",
    "ax.set_ylabel('Latitude (°)')\n",
    "plt.colorbar(im, ax=ax, shrink=0.8)\n",
    "\n",
    "# Plot 3: Divergence\n",
    "ax = axes[0, 2]\n",
    "im = ax.contourf(lon_grid, lat_grid, divergence*1e5, \n",
    "                 levels=20, cmap='RdBu_r', extend='both')\n",
    "ax.set_title('Divergence (×10⁻⁵ s⁻¹)')\n",
    "ax.set_xlabel('Longitude (°)')\n",
    "ax.set_ylabel('Latitude (°)')\n",
    "plt.colorbar(im, ax=ax, shrink=0.8)\n",
    "\n",
    "# Plot 4: Streamfunction\n",
    "ax = axes[1, 0]\n",
    "im = ax.contourf(lon_grid, lat_grid, streamfunction*1e-6, \n",
    "                 levels=20, cmap='RdBu_r', extend='both')\n",
    "ax.set_title('Streamfunction (×10⁶ m²/s)')\n",
    "ax.set_xlabel('Longitude (°)')\n",
    "ax.set_ylabel('Latitude (°)')\n",
    "plt.colorbar(im, ax=ax, shrink=0.8)\n",
    "\n",
    "# Plot 5: Velocity Potential\n",
    "ax = axes[1, 1]\n",
    "im = ax.contourf(lon_grid, lat_grid, velocity_potential*1e-6, \n",
    "                 levels=20, cmap='RdBu_r', extend='both')\n",
    "ax.set_title('Velocity Potential (×10⁶ m²/s)')\n",
    "ax.set_xlabel('Longitude (°)')\n",
    "ax.set_ylabel('Latitude (°)')\n",
    "plt.colorbar(im, ax=ax, shrink=0.8)\n",
    "\n",
    "# Plot 6: Rotational vs Divergent Components\n",
    "ax = axes[1, 2]\n",
    "ax.quiver(lon_grid[::skip, ::skip], lat_grid[::skip, ::skip], \n",
    "          u_rot[::skip, ::skip], v_rot[::skip, ::skip], \n",
    "          color='blue', scale=300, alpha=0.7, label='Rotational')\n",
    "ax.quiver(lon_grid[::skip, ::skip], lat_grid[::skip, ::skip], \n",
    "          u_div[::skip, ::skip], v_div[::skip, ::skip], \n",
    "          color='red', scale=300, alpha=0.7, label='Divergent')\n",
    "ax.set_title('Wind Components')\n",
    "ax.set_xlabel('Longitude (°)')\n",
    "ax.set_ylabel('Latitude (°)')\n",
    "ax.legend()\n",
    "ax.grid(True, alpha=0.3)\n",
    "\n",
    "plt.tight_layout()\n",
    "plt.show()"
   ]
  },
  {
   "cell_type": "markdown",
   "id": "4668aa43",
   "metadata": {},
   "source": [
    "## Time Series Analysis\n",
    "\n",
    "Demonstrate analysis of time-varying wind fields."
   ]
  },
  {
   "cell_type": "code",
   "execution_count": null,
   "id": "bbc2549a",
   "metadata": {},
   "outputs": [],
   "source": [
    "# Create time-varying wind data\n",
    "nt = 12  # 12 time steps (e.g., months)\n",
    "time = np.arange(nt)\n",
    "\n",
    "# Add time dimension to wind data with seasonal variation\n",
    "u_time = np.zeros((nlat, nlon, nt))\n",
    "v_time = np.zeros((nlat, nlon, nt))\n",
    "\n",
    "for t in range(nt):\n",
    "    # Seasonal modulation\n",
    "    seasonal_factor = 1 + 0.3 * np.cos(2 * np.pi * t / 12)\n",
    "    u_time[:, :, t] = u * seasonal_factor + 2 * np.random.randn(nlat, nlon)\n",
    "    v_time[:, :, t] = v * seasonal_factor + 2 * np.random.randn(nlat, nlon)\n",
    "\n",
    "# Initialize VectorWind with time series\n",
    "vw_time = VectorWind(u_time, v_time, gridtype='gaussian')\n",
    "\n",
    "# Compute vorticity time series\n",
    "vorticity_time = vw_time.vorticity()\n",
    "\n",
    "print(f\"Time series analysis:\")\n",
    "print(f\"  Input wind shape: {u_time.shape}\")\n",
    "print(f\"  Vorticity shape: {vorticity_time.shape}\")\n",
    "\n",
    "# Calculate global mean vorticity for each time step\n",
    "# Use Gaussian weights for proper global averaging\n",
    "weights_2d = np.broadcast_to(wts[:, np.newaxis], (nlat, nlon))\n",
    "global_vort = np.array([np.average(vorticity_time[:, :, t], weights=weights_2d) \n",
    "                       for t in range(nt)])\n",
    "\n",
    "# Plot time series\n",
    "plt.figure(figsize=(10, 6))\n",
    "plt.plot(time, global_vort * 1e5, 'bo-', linewidth=2, markersize=8)\n",
    "plt.title('Global Mean Vorticity Time Series', fontsize=14, fontweight='bold')\n",
    "plt.xlabel('Time Step')\n",
    "plt.ylabel('Vorticity (×10⁻⁵ s⁻¹)')\n",
    "plt.grid(True, alpha=0.3)\n",
    "plt.tight_layout()\n",
    "plt.show()\n",
    "\n",
    "print(f\"\\nGlobal vorticity statistics:\")\n",
    "print(f\"  Mean: {global_vort.mean():.2e} s⁻¹\")\n",
    "print(f\"  Std: {global_vort.std():.2e} s⁻¹\")\n",
    "print(f\"  Range: [{global_vort.min():.2e}, {global_vort.max():.2e}] s⁻¹\")"
   ]
  },
  {
   "cell_type": "markdown",
   "id": "6c9b4f31",
   "metadata": {},
   "source": [
    "## Error Handling and Validation\n",
    "\n",
    "Demonstrate the comprehensive error handling in the module."
   ]
  },
  {
   "cell_type": "code",
   "execution_count": null,
   "id": "54c684a0",
   "metadata": {},
   "outputs": [],
   "source": [
    "# Example 1: Shape mismatch\n",
    "try:\n",
    "    vw_error = VectorWind(u[:, :50], v, gridtype='gaussian')\n",
    "except ValueError as e:\n",
    "    print(f\"✓ Caught shape mismatch error: {e}\")\n",
    "\n",
    "# Example 2: Invalid grid type\n",
    "try:\n",
    "    vw_error = VectorWind(u, v, gridtype='invalid')\n",
    "except ValueError as e:\n",
    "    print(f\"✓ Caught invalid grid type error: {e}\")\n",
    "\n",
    "# Example 3: Data with NaN values\n",
    "u_nan = u.copy()\n",
    "u_nan[0, 0] = np.nan\n",
    "try:\n",
    "    vw_error = VectorWind(u_nan, v, gridtype='gaussian')\n",
    "except ValueError as e:\n",
    "    print(f\"✓ Caught NaN values error: {e}\")\n",
    "\n",
    "# Example 4: Insufficient latitude points\n",
    "try:\n",
    "    vw_error = VectorWind(u[:2, :], v[:2, :], gridtype='gaussian')\n",
    "except ValueError as e:\n",
    "    print(f\"✓ Caught insufficient latitude points error: {e}\")\n",
    "\n",
    "print(\"\\n✓ All error handling examples completed successfully!\")"
   ]
  },
  {
   "cell_type": "markdown",
   "id": "a868bdf0",
   "metadata": {},
   "source": [
    "## Performance Comparison\n",
    "\n",
    "Compare performance of different computation modes."
   ]
  },
  {
   "cell_type": "code",
   "execution_count": null,
   "id": "c7e9448c",
   "metadata": {},
   "outputs": [],
   "source": [
    "import time\n",
    "\n",
    "# Test performance with different legfunc settings\n",
    "print(\"Performance comparison:\")\n",
    "print(\"-\" * 40)\n",
    "\n",
    "# Stored mode (default)\n",
    "start_time = time.time()\n",
    "vw_stored = VectorWind(u, v, gridtype='gaussian', legfunc='stored')\n",
    "vort_stored = vw_stored.vorticity()\n",
    "time_stored = time.time() - start_time\n",
    "\n",
    "# Computed mode\n",
    "start_time = time.time()\n",
    "vw_computed = VectorWind(u, v, gridtype='gaussian', legfunc='computed')\n",
    "vort_computed = vw_computed.vorticity()\n",
    "time_computed = time.time() - start_time\n",
    "\n",
    "print(f\"Stored legfunc:   {time_stored:.4f} seconds\")\n",
    "print(f\"Computed legfunc: {time_computed:.4f} seconds\")\n",
    "print(f\"Speedup factor:   {time_computed/time_stored:.2f}x\")\n",
    "\n",
    "# Verify results are identical\n",
    "assert np.allclose(vort_stored, vort_computed, rtol=1e-10)\n",
    "print(\"✓ Results are identical regardless of legfunc setting\")"
   ]
  },
  {
   "cell_type": "markdown",
   "id": "02038ba1",
   "metadata": {},
   "source": [
    "## Summary\n",
    "\n",
    "This notebook demonstrated the key capabilities of the `skyborn.windspharm` module:\n",
    "\n",
    "1. **Vector Wind Analysis**: Computing vorticity, divergence, streamfunction, and velocity potential\n",
    "2. **Helmholtz Decomposition**: Separating wind into rotational and divergent components\n",
    "3. **Time Series Analysis**: Handling time-varying wind fields\n",
    "4. **Error Handling**: Comprehensive validation and error reporting\n",
    "5. **Performance Options**: Different computation modes for speed/memory trade-offs\n",
    "\n",
    "The module provides a modern, well-documented interface for spherical harmonic vector wind analysis, making it easy to analyze atmospheric and oceanic wind patterns with high accuracy and efficiency."
   ]
  }
 ],
 "metadata": {
  "language_info": {
   "name": "python"
  }
 },
 "nbformat": 4,
 "nbformat_minor": 5
}
